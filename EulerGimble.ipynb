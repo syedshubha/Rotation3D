{
  "nbformat": 4,
  "nbformat_minor": 0,
  "metadata": {
    "colab": {
      "provenance": [],
      "authorship_tag": "ABX9TyNGd1IXG+DTJx81fbGkBgCh",
      "include_colab_link": true
    },
    "kernelspec": {
      "name": "python3",
      "display_name": "Python 3"
    },
    "language_info": {
      "name": "python"
    }
  },
  "cells": [
    {
      "cell_type": "markdown",
      "metadata": {
        "id": "view-in-github",
        "colab_type": "text"
      },
      "source": [
        "<a href=\"https://colab.research.google.com/github/syedshubha/Rotation3D/blob/main/EulerGimble.ipynb\" target=\"_parent\"><img src=\"https://colab.research.google.com/assets/colab-badge.svg\" alt=\"Open In Colab\"/></a>"
      ]
    },
    {
      "cell_type": "code",
      "execution_count": 1,
      "metadata": {
        "id": "BHRUZObiMXEd"
      },
      "outputs": [],
      "source": [
        "from sympy import *\n",
        "import sympy.printing as printing\n",
        "init_printing(pretty_print=True)"
      ]
    },
    {
      "cell_type": "markdown",
      "source": [
        "Euler's angle"
      ],
      "metadata": {
        "id": "2oi1UAxDS_Nv"
      }
    },
    {
      "cell_type": "code",
      "source": [
        "a,b,c = symbols('alpha beta gamma') #Euler angles"
      ],
      "metadata": {
        "id": "VssVGa3xN1Mw"
      },
      "execution_count": 2,
      "outputs": []
    },
    {
      "cell_type": "markdown",
      "source": [
        "Roll: Rotation around x axis"
      ],
      "metadata": {
        "id": "ANcEDpe3S5aH"
      }
    },
    {
      "cell_type": "code",
      "source": [
        "Rx = Matrix([[1,0, 0],[0,cos(a), -sin(a)], [0, sin(a), cos(a)]])\n",
        "pprint(Rx)"
      ],
      "metadata": {
        "colab": {
          "base_uri": "https://localhost:8080/"
        },
        "id": "RRjs2IBKPCOR",
        "outputId": "096f07d3-a6f1-49e3-c2a5-5e8a8e1f9652"
      },
      "execution_count": 3,
      "outputs": [
        {
          "output_type": "stream",
          "name": "stdout",
          "text": [
            "⎡1    0        0   ⎤\n",
            "⎢                  ⎥\n",
            "⎢0  cos(α)  -sin(α)⎥\n",
            "⎢                  ⎥\n",
            "⎣0  sin(α)  cos(α) ⎦\n"
          ]
        }
      ]
    },
    {
      "cell_type": "markdown",
      "source": [
        "Pitch: Rotation around y axis"
      ],
      "metadata": {
        "id": "94vePkDPTCRm"
      }
    },
    {
      "cell_type": "code",
      "source": [
        "Ry = Matrix([[cos(b),0, sin(b)],[0,1, 0], [-sin(b),0, cos(b)]])\n",
        "pprint(Ry)"
      ],
      "metadata": {
        "colab": {
          "base_uri": "https://localhost:8080/"
        },
        "id": "Ug-B5Y5nPIJO",
        "outputId": "599cd364-4443-498f-bc3e-2b6a8917bdaa"
      },
      "execution_count": 4,
      "outputs": [
        {
          "output_type": "stream",
          "name": "stdout",
          "text": [
            "⎡cos(β)   0  sin(β)⎤\n",
            "⎢                  ⎥\n",
            "⎢   0     1    0   ⎥\n",
            "⎢                  ⎥\n",
            "⎣-sin(β)  0  cos(β)⎦\n"
          ]
        }
      ]
    },
    {
      "cell_type": "markdown",
      "source": [
        "Yaw: Rotation around z axis"
      ],
      "metadata": {
        "id": "Z5HX0rkATHff"
      }
    },
    {
      "cell_type": "code",
      "source": [
        "Rz = Matrix([[cos(c), -sin(c), 0], [sin(c), cos(c), 0],[0,0,1]])\n",
        "pprint(Rz)"
      ],
      "metadata": {
        "colab": {
          "base_uri": "https://localhost:8080/"
        },
        "id": "2aSY6O6cPaL1",
        "outputId": "27e26fd9-f9e8-4f3b-ef4f-f61a53702702"
      },
      "execution_count": 5,
      "outputs": [
        {
          "output_type": "stream",
          "name": "stdout",
          "text": [
            "⎡cos(γ)  -sin(γ)  0⎤\n",
            "⎢                  ⎥\n",
            "⎢sin(γ)  cos(γ)   0⎥\n",
            "⎢                  ⎥\n",
            "⎣  0        0     1⎦\n"
          ]
        }
      ]
    },
    {
      "cell_type": "markdown",
      "source": [
        "<center><img src=\"https://www.researchgate.net/profile/Simon-Wagner-14/publication/363173286/figure/fig7/AS:11431281082219036@1662019933752/2-Aircraft-with-rotation-vector-due-to-its-own-motion.ppm\" width=100 height=100/> </center>"
      ],
      "metadata": {
        "id": "DtRylpzZYgnK"
      }
    },
    {
      "cell_type": "markdown",
      "source": [
        "### XYZ Euler Rotation"
      ],
      "metadata": {
        "id": "Lx43QECyTMOn"
      }
    },
    {
      "cell_type": "code",
      "source": [
        "R = Rx*Ry*Rz\n",
        "R"
      ],
      "metadata": {
        "colab": {
          "base_uri": "https://localhost:8080/",
          "height": 78
        },
        "id": "wSHhNTQYP0Zg",
        "outputId": "3564d5c1-6b5c-45a0-eee2-162e743bd59c"
      },
      "execution_count": 6,
      "outputs": [
        {
          "output_type": "execute_result",
          "data": {
            "text/plain": [
              "⎡           cos(β)⋅cos(γ)                         -sin(γ)⋅cos(β)              \n",
              "⎢                                                                             \n",
              "⎢sin(α)⋅sin(β)⋅cos(γ) + sin(γ)⋅cos(α)  -sin(α)⋅sin(β)⋅sin(γ) + cos(α)⋅cos(γ)  \n",
              "⎢                                                                             \n",
              "⎣sin(α)⋅sin(γ) - sin(β)⋅cos(α)⋅cos(γ)  sin(α)⋅cos(γ) + sin(β)⋅sin(γ)⋅cos(α)   \n",
              "\n",
              "    sin(β)    ⎤\n",
              "              ⎥\n",
              "-sin(α)⋅cos(β)⎥\n",
              "              ⎥\n",
              "cos(α)⋅cos(β) ⎦"
            ],
            "text/latex": "$\\displaystyle \\left[\\begin{matrix}\\cos{\\left(\\beta \\right)} \\cos{\\left(\\gamma \\right)} & - \\sin{\\left(\\gamma \\right)} \\cos{\\left(\\beta \\right)} & \\sin{\\left(\\beta \\right)}\\\\\\sin{\\left(\\alpha \\right)} \\sin{\\left(\\beta \\right)} \\cos{\\left(\\gamma \\right)} + \\sin{\\left(\\gamma \\right)} \\cos{\\left(\\alpha \\right)} & - \\sin{\\left(\\alpha \\right)} \\sin{\\left(\\beta \\right)} \\sin{\\left(\\gamma \\right)} + \\cos{\\left(\\alpha \\right)} \\cos{\\left(\\gamma \\right)} & - \\sin{\\left(\\alpha \\right)} \\cos{\\left(\\beta \\right)}\\\\\\sin{\\left(\\alpha \\right)} \\sin{\\left(\\gamma \\right)} - \\sin{\\left(\\beta \\right)} \\cos{\\left(\\alpha \\right)} \\cos{\\left(\\gamma \\right)} & \\sin{\\left(\\alpha \\right)} \\cos{\\left(\\gamma \\right)} + \\sin{\\left(\\beta \\right)} \\sin{\\left(\\gamma \\right)} \\cos{\\left(\\alpha \\right)} & \\cos{\\left(\\alpha \\right)} \\cos{\\left(\\beta \\right)}\\end{matrix}\\right]$"
          },
          "metadata": {},
          "execution_count": 6
        }
      ]
    },
    {
      "cell_type": "markdown",
      "source": [
        "#Gimble Lock"
      ],
      "metadata": {
        "id": "i6ax8BDmRrcw"
      }
    },
    {
      "cell_type": "markdown",
      "source": [
        "When $\\beta=90^\\circ$"
      ],
      "metadata": {
        "id": "lefOTM19TPpH"
      }
    },
    {
      "cell_type": "code",
      "source": [
        "R_ = R.subs(b,pi/2)\n",
        "R_= trigsimp(R_)\n",
        "R_"
      ],
      "metadata": {
        "colab": {
          "base_uri": "https://localhost:8080/",
          "height": 78
        },
        "id": "Zc5kiDtVRqLA",
        "outputId": "553b4a80-023c-4c1b-b2a9-64694f5f2538"
      },
      "execution_count": 18,
      "outputs": [
        {
          "output_type": "execute_result",
          "data": {
            "text/plain": [
              "⎡     0           0       1⎤\n",
              "⎢                          ⎥\n",
              "⎢sin(α + γ)   cos(α + γ)  0⎥\n",
              "⎢                          ⎥\n",
              "⎣-cos(α + γ)  sin(α + γ)  0⎦"
            ],
            "text/latex": "$\\displaystyle \\left[\\begin{matrix}0 & 0 & 1\\\\\\sin{\\left(\\alpha + \\gamma \\right)} & \\cos{\\left(\\alpha + \\gamma \\right)} & 0\\\\- \\cos{\\left(\\alpha + \\gamma \\right)} & \\sin{\\left(\\alpha + \\gamma \\right)} & 0\\end{matrix}\\right]$"
          },
          "metadata": {},
          "execution_count": 18
        }
      ]
    },
    {
      "cell_type": "markdown",
      "source": [
        "## There are infinite $\\gamma$ and $\\alpha$ creating the same rotation.\n",
        "To understand clearly, let's take a unit vector pointing in $+y$ axis."
      ],
      "metadata": {
        "id": "c8GmEQApVBW3"
      }
    },
    {
      "cell_type": "code",
      "source": [
        "r = Matrix([0,1,0]) # along y axis\n",
        "#If we rotate it around y axis,"
      ],
      "metadata": {
        "id": "YyHeM-Z6afOa"
      },
      "execution_count": 8,
      "outputs": []
    },
    {
      "cell_type": "code",
      "source": [
        "R_*r"
      ],
      "metadata": {
        "colab": {
          "base_uri": "https://localhost:8080/",
          "height": 78
        },
        "id": "nwxjhz18dJj6",
        "outputId": "11dbb4bb-a392-45c0-d1ed-6efa67f8ff54"
      },
      "execution_count": 19,
      "outputs": [
        {
          "output_type": "execute_result",
          "data": {
            "text/plain": [
              "⎡    0     ⎤\n",
              "⎢          ⎥\n",
              "⎢cos(α + γ)⎥\n",
              "⎢          ⎥\n",
              "⎣sin(α + γ)⎦"
            ],
            "text/latex": "$\\displaystyle \\left[\\begin{matrix}0\\\\\\cos{\\left(\\alpha + \\gamma \\right)}\\\\\\sin{\\left(\\alpha + \\gamma \\right)}\\end{matrix}\\right]$"
          },
          "metadata": {},
          "execution_count": 19
        }
      ]
    },
    {
      "cell_type": "markdown",
      "source": [
        "No matter how we change $\\gamma$, $\\alpha$ we cannot make it point in the direction $(1,0,0)^T$. Additionally infinite $\\gamma$,$\\alpha$ create the same rotation.\n",
        "In this case, two of the axes have lined up, we are left with only 2 dimensions of movement and we have lost a degree of freedom. This locking type of phenomenon is know as the Gimbal Lock."
      ],
      "metadata": {
        "id": "S-vo0tNmerXJ"
      }
    }
  ]
}